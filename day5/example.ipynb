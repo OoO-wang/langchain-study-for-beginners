{
 "cells": [
  {
   "cell_type": "code",
   "id": "initial_id",
   "metadata": {
    "collapsed": true,
    "ExecuteTime": {
     "end_time": "2025-10-16T07:20:42.310491Z",
     "start_time": "2025-10-16T07:20:42.296357Z"
    }
   },
   "source": [
    "import os\n",
    "from dotenv import load_dotenv\n",
    "from langchain_openai import ChatOpenAI\n",
    "from langchain.agents import create_agent\n",
    "from langchain.tools import tool\n",
    "from langchain.messages import HumanMessage\n",
    "from langchain.agents.middleware import SummarizationMiddleware\n",
    "\n",
    "load_dotenv(dotenv_path=\"../.env\")\n",
    "\n",
    "@tool\n",
    "def get_weather_for_location(city: str) -> str:\n",
    "    \"\"\"Get weather for a given city.\"\"\"\n",
    "    return f\"It's always Rainy in {city}!\"\n",
    "\n",
    "model = ChatOpenAI(\n",
    "    base_url=os.getenv(\"MODEL_URL\"),\n",
    "    api_key=os.getenv(\"OPENAI_API_KEY\"),\n",
    "    model=os.getenv(\"MODEL_NAME\", \"gpt-3.5-turbo\"),\n",
    "    temperature=0\n",
    ")"
   ],
   "outputs": [],
   "execution_count": 3
  },
  {
   "cell_type": "code",
   "id": "7eecc163",
   "metadata": {
    "ExecuteTime": {
     "end_time": "2025-10-16T07:28:42.091907Z",
     "start_time": "2025-10-16T07:27:27.255874Z"
    }
   },
   "source": [
    "# 降低token阈值来更容易触发总结\n",
    "print(\"=== 创建低阈值版本的 SummarizationMiddleware ===\")\n",
    "\n",
    "# 创建一个更容易触发总结的agent\n",
    "agent_low_threshold = create_agent(\n",
    "    model=model,\n",
    "    tools=[get_weather_for_location],\n",
    "    middleware=[\n",
    "        SummarizationMiddleware(\n",
    "            model=model,\n",
    "            max_tokens_before_summary=20,  # 降低到20 tokens\n",
    "            messages_to_keep=2,  # 只保留3条消息\n",
    "        ),\n",
    "    ],\n",
    ")\n",
    "\n",
    "print(\"✅ 已创建低阈值版本的agent (20 tokens触发总结)\")\n",
    "\n",
    "# 测试低阈值版本\n",
    "def test_low_threshold():\n",
    "    \"\"\"测试低阈值版本的 SummarizationMiddleware\"\"\"\n",
    "    print(\"\\n=== 测试低阈值版本 ===\")\n",
    "    \n",
    "    long_messages = [\n",
    "        \"请详细告诉我上海的天气情况，并且根据天气情况给我列出出行指南。\",\n",
    "        \"请简单告诉我三亚的天气情况。\",\n",
    "    ]\n",
    "    \n",
    "    for i, message in enumerate(long_messages):\n",
    "        print(f\"\\n--- 长消息测试 {i+1} ---\")\n",
    "        try:\n",
    "            response = agent_low_threshold.invoke({\"messages\": [HumanMessage(content=message)]})\n",
    "            # 可以看到有在对model提问前进行了总结\n",
    "            print(f\"回复: {response}\")\n",
    "        except Exception as e:\n",
    "            print(f\"错误: {e}\")\n",
    "test_low_threshold()"
   ],
   "outputs": [
    {
     "name": "stdout",
     "output_type": "stream",
     "text": [
      "=== 创建低阈值版本的 SummarizationMiddleware ===\n",
      "✅ 已创建低阈值版本的agent (20 tokens触发总结)\n",
      "\n",
      "=== 测试低阈值版本 ===\n",
      "\n",
      "--- 长消息测试 1 ---\n",
      "回复: {'messages': [HumanMessage(content='Here is a summary of the conversation to date:\\n\\nUser requested detailed weather information for Shanghai and a travel guide based on the weather.', additional_kwargs={}, response_metadata={}, id='41dcf905-424c-4e0e-9a23-a7ba502b9584'), AIMessage(content='', additional_kwargs={'refusal': None}, response_metadata={'token_usage': {'completion_tokens': 519, 'prompt_tokens': 456, 'total_tokens': 975, 'completion_tokens_details': {'accepted_prediction_tokens': 0, 'audio_tokens': 0, 'reasoning_tokens': 490, 'rejected_prediction_tokens': 0}, 'prompt_tokens_details': {'audio_tokens': 0, 'cached_tokens': 0}}, 'model_provider': 'openai', 'model_name': 'doubao-seed-1-6-250615', 'system_fingerprint': '', 'id': '021760599650425f8c6a85cf57ff2d1ecf10d9f546f115817ec39', 'service_tier': None, 'finish_reason': 'tool_calls', 'logprobs': None}, id='lc_run--462bfa33-13a4-4f27-a878-6cd40fa9e0a5-0', tool_calls=[{'name': 'get_weather_for_location', 'args': {'city': '上海'}, 'id': 'call_m8rkudg5c1qllphmsqigqbt8', 'type': 'tool_call'}], usage_metadata={'input_tokens': 456, 'output_tokens': 519, 'total_tokens': 975, 'input_token_details': {'audio': 0, 'cache_read': 0}, 'output_token_details': {'audio': 0, 'reasoning': 490}}), ToolMessage(content=\"It's always Rainy in 上海!\", name='get_weather_for_location', id='f8b213af-621e-44a5-bb18-14a13876b7a4', tool_call_id='call_m8rkudg5c1qllphmsqigqbt8'), AIMessage(content='Based on the weather information (consistently rainy in Shanghai) and travel needs, here’s a tailored guide:  \\n\\n\\n### 🌧️ **Weather & Packing Tips**  \\nShanghai’s persistent rain means you’ll need:  \\n- **Essentials**: Compact umbrella, waterproof jacket/poncho, and slip - resistant shoes (to avoid falls on wet streets).  \\n- **Extras**: A portable charger (for using navigation/apps in the rain) and a small backpack cover (to protect your belongings).  \\n\\n\\n### 🎯 **Top Indoor - Focused Activities**  \\nSince outdoor exploration can be tricky in the rain, prioritize dry, indoor experiences:  \\n\\n1. **Cultural & Historical Sites**  \\n   - **Shanghai Museum** (人民大道201号): Explore ancient Chinese art (porcelain, calligraphy, jade) in a spacious, air - conditioned space. No admission fee!  \\n   - **Yu Garden (豫园)** (though outdoor, the covered pavilions and indoor shops in the Yuyuan Bazaar are worth a visit). Wander through traditional architecture and try local snacks like xiaolongbao (soup dumplings) under cover.  \\n\\n2. **Modern & Interactive Spaces**  \\n   - **Oriental Pearl Tower** (世纪大道1号): Visit the observation decks (indoor sections for views) and the Shanghai History Museum inside—learn about the city’s transformation from a fishing village to a metropolis.  \\n   - **Shanghai Science and Technology Museum** (世纪大道2000号): Perfect for families or tech lovers, with hands - on exhibits about space, robots, and nature.  \\n\\n3. **Shopping & Dining**  \\n   - **Nanjing Road Pedestrian Street** (南京路步行街): Shop at both luxury and budget stores, and duck into malls like **Shanghai Centre** or **Global Harbor** for dry, climate - controlled shopping and dining.  \\n   - **Tianzifang (田子坊)** (泰康路210弄): A maze of alleys with indie shops, art galleries, and cozy cafes—most spaces are covered, so you can browse while staying dry.  \\n\\n\\n### 🍜 **Rainy - Day Eats**  \\nWarm up with Shanghai’s comfort food:  \\n- **Xiaolongbao** (soup dumplings): Try them at **Nanxiang Mantou Dian** (南翔馒头店) in Yu Garden—sip the hot soup inside the dumpling!  \\n- **Braised pork (红烧肉)** or **wontons in red oil (红油抄手)**: Head to a local diner like **Old Shanghai Restaurant** for hearty, savory dishes.  \\n- **Sweet treats**: End with **double - skin milk (双皮奶)** or **red bean cake (红豆糕)** at a dessert shop to boost your mood on a rainy day.  \\n\\n\\n### 🚇 **Getting Around**  \\nShanghai’s metro (subway) is **the best choice**—it’s extensive, dry, and avoids traffic. Buy a *Metro Day Pass* (¥18 for 24 hours) for unlimited rides. If you take taxis, use apps like **Didi Chuxing** (more reliable than hailing on the street in the rain).  \\n\\n\\n### 💡 Pro Tip  \\nCheck real - time rain forecasts (via apps like “Weather Channel” or local Chinese apps) to plan short outdoor bursts (e.g., between rain showers) for photos of Shanghai’s wet, glistening streets!  \\n\\nSafe travels—and embrace the cozy, misty charm of rainy Shanghai! ☔', additional_kwargs={'refusal': None}, response_metadata={'token_usage': {'completion_tokens': 908, 'prompt_tokens': 494, 'total_tokens': 1402, 'completion_tokens_details': {'accepted_prediction_tokens': 0, 'audio_tokens': 0, 'reasoning_tokens': 162, 'rejected_prediction_tokens': 0}, 'prompt_tokens_details': {'audio_tokens': 0, 'cached_tokens': 0}}, 'model_provider': 'openai', 'model_name': 'doubao-seed-1-6-250615', 'system_fingerprint': '', 'id': '021760599670070f8275012ac9d19afe2259d94b9561dc6e531e2', 'service_tier': None, 'finish_reason': 'stop', 'logprobs': None}, id='lc_run--fda4182b-9d1c-4c9d-8ddd-96138e2552cc-0', usage_metadata={'input_tokens': 494, 'output_tokens': 908, 'total_tokens': 1402, 'input_token_details': {'audio': 0, 'cache_read': 0}, 'output_token_details': {'audio': 0, 'reasoning': 162}})]}\n",
      "\n",
      "--- 长消息测试 2 ---\n",
      "回复: {'messages': [HumanMessage(content='Here is a summary of the conversation to date:\\n\\n用户请求简单告知三亚的天气情况。', additional_kwargs={}, response_metadata={}, id='ec274ded-962e-4d6d-8dd0-16ca28ac14dd'), AIMessage(content='', additional_kwargs={'refusal': None}, response_metadata={'token_usage': {'completion_tokens': 76, 'prompt_tokens': 418, 'total_tokens': 494, 'completion_tokens_details': {'accepted_prediction_tokens': 0, 'audio_tokens': 0, 'reasoning_tokens': 43, 'rejected_prediction_tokens': 0}, 'prompt_tokens_details': {'audio_tokens': 0, 'cached_tokens': 0}}, 'model_provider': 'openai', 'model_name': 'doubao-seed-1-6-250615', 'system_fingerprint': '', 'id': '021760599698989ee5eb03f9031c9451997bdb14cb7183abbba7d', 'service_tier': None, 'finish_reason': 'tool_calls', 'logprobs': None}, id='lc_run--8f8c0899-962b-4fa5-935d-183e3b0c2de0-0', tool_calls=[{'name': 'get_weather_for_location', 'args': {'city': '三亚'}, 'id': 'call_62kpi0ykebqed3ekhlxjpwej', 'type': 'tool_call'}], usage_metadata={'input_tokens': 418, 'output_tokens': 76, 'total_tokens': 494, 'input_token_details': {'audio': 0, 'cache_read': 0}, 'output_token_details': {'audio': 0, 'reasoning': 43}}), ToolMessage(content=\"It's always Rainy in 三亚!\", name='get_weather_for_location', id='9339728d-56f8-48fe-91fa-4a1219c55bbc', tool_call_id='call_62kpi0ykebqed3ekhlxjpwej'), AIMessage(content='三亚的天气情况为：总是多雨。', additional_kwargs={'refusal': None}, response_metadata={'token_usage': {'completion_tokens': 759, 'prompt_tokens': 515, 'total_tokens': 1274, 'completion_tokens_details': {'accepted_prediction_tokens': 0, 'audio_tokens': 0, 'reasoning_tokens': 750, 'rejected_prediction_tokens': 0}, 'prompt_tokens_details': {'audio_tokens': 0, 'cached_tokens': 0}}, 'model_provider': 'openai', 'model_name': 'doubao-seed-1-6-250615', 'system_fingerprint': '', 'id': '021760599706432b67b94a8d07e11fbe605e177e8eca3ebf1e1c0', 'service_tier': None, 'finish_reason': 'stop', 'logprobs': None}, id='lc_run--f43c53fd-3416-43d8-8df0-48b4689e9916-0', usage_metadata={'input_tokens': 515, 'output_tokens': 759, 'total_tokens': 1274, 'input_token_details': {'audio': 0, 'cache_read': 0}, 'output_token_details': {'audio': 0, 'reasoning': 750}})]}\n"
     ]
    }
   ],
   "execution_count": 6
  },
  {
   "metadata": {
    "ExecuteTime": {
     "end_time": "2025-10-16T08:14:19.789402Z",
     "start_time": "2025-10-16T08:14:13.846770Z"
    }
   },
   "cell_type": "code",
   "source": [
    "from langchain.agents.middleware import HumanInTheLoopMiddleware\n",
    "\n",
    "human_interrupt_agent = create_agent(\n",
    "    model=model,\n",
    "    tools=[get_weather_for_location],\n",
    "    middleware=[\n",
    "            HumanInTheLoopMiddleware(\n",
    "            interrupt_on={\n",
    "                # 人工判断是否支持调用获取本地天气\n",
    "                \"get_weather_for_location\": {\n",
    "                    \"allowed_decisions\": [\"approve\", \"reject\"],\n",
    "                },\n",
    "            }\n",
    "        ),\n",
    "    ],\n",
    ")\n",
    "\n",
    "messages = \"请简要告诉我上海的天气情况。\"\n",
    "\n",
    "response = human_interrupt_agent.invoke({\"messages\": [HumanMessage(content=messages)]})\n",
    "\n",
    "# 可以看到在call tools之前，已经中断，等待新的决策输入继续运行\n",
    "print(response)"
   ],
   "id": "6b9cc28d4efa68ae",
   "outputs": [
    {
     "name": "stdout",
     "output_type": "stream",
     "text": [
      "{'messages': [HumanMessage(content='请简要告诉我上海的天气情况。', additional_kwargs={}, response_metadata={}, id='50c1b511-34cd-4f29-9024-3e72ba269135'), AIMessage(content='', additional_kwargs={'refusal': None}, response_metadata={'token_usage': {'completion_tokens': 79, 'prompt_tokens': 418, 'total_tokens': 497, 'completion_tokens_details': {'accepted_prediction_tokens': 0, 'audio_tokens': 0, 'reasoning_tokens': 46, 'rejected_prediction_tokens': 0}, 'prompt_tokens_details': {'audio_tokens': 0, 'cached_tokens': 0}}, 'model_provider': 'openai', 'model_name': 'doubao-seed-1-6-250615', 'system_fingerprint': '', 'id': '0217606024572550b5206b6c0f3bb2682a16c13f4ce95f3c73775', 'service_tier': None, 'finish_reason': 'tool_calls', 'logprobs': None}, id='lc_run--06bb4dc8-282b-4adb-8d83-a737d93cd42e-0', tool_calls=[{'name': 'get_weather_for_location', 'args': {'city': '上海'}, 'id': 'call_w43ukxmh2zaopj48fphjfsuh', 'type': 'tool_call'}], usage_metadata={'input_tokens': 418, 'output_tokens': 79, 'total_tokens': 497, 'input_token_details': {'audio': 0, 'cache_read': 0}, 'output_token_details': {'audio': 0, 'reasoning': 46}})], '__interrupt__': [Interrupt(value={'action_requests': [{'name': 'get_weather_for_location', 'arguments': {'city': '上海'}, 'description': \"Tool execution requires approval\\n\\nTool: get_weather_for_location\\nArgs: {'city': '上海'}\"}], 'review_configs': [{'action_name': 'get_weather_for_location', 'allowed_decisions': ['approve', 'reject']}]}, id='9d2eb41337f9c1f1ddca1acd631b9e4f')]}\n"
     ]
    }
   ],
   "execution_count": 8
  },
  {
   "metadata": {
    "ExecuteTime": {
     "end_time": "2025-10-16T11:11:33.093278Z",
     "start_time": "2025-10-16T11:11:19.469864Z"
    }
   },
   "cell_type": "code",
   "source": [
    "from langchain.agents.middleware import PIIMiddleware\n",
    "\n",
    "redact_agent = create_agent(\n",
    "    model=model,\n",
    "    middleware=[\n",
    "        # Redact emails in user input\n",
    "        PIIMiddleware(\"email\", strategy=\"redact\", apply_to_input=True),\n",
    "        # Mask credit cards (show last 4 digits)\n",
    "        PIIMiddleware(\"credit_card\", strategy=\"mask\", apply_to_input=True),\n",
    "        # Custom PII type with regex\n",
    "        PIIMiddleware(\n",
    "            \"api_key\",\n",
    "            detector=r\"sk-[a-zA-Z0-9]{32}\",\n",
    "            strategy=\"block\",  # Raise error if detected\n",
    "        ),\n",
    "    ],\n",
    ")\n",
    "\n",
    "messages=\"我的邮箱是junbo.wang952@gmail.com，请问我的邮箱是什么？\"\n",
    "response = redact_agent.invoke({\"messages\": [HumanMessage(content=messages)]})\n",
    "# 不应该输出正确的邮箱\n",
    "print(response)"
   ],
   "id": "8c10e7747c25b602",
   "outputs": [
    {
     "name": "stdout",
     "output_type": "stream",
     "text": [
      "{'messages': [HumanMessage(content='我的邮箱是junbo[REDACTED_EMAIL]，请问我的邮箱是什么？', additional_kwargs={}, response_metadata={}, id='1f7bf9c7-a50d-4129-9a1e-f7cf965fe3c4'), AIMessage(content='你提供的邮箱信息中，`[REDACTED_EMAIL]` 是被隐私保护（或编辑）隐藏的部分，仅从你给出的内容能看到邮箱的前缀部分是 `junbo`，但完整的邮箱地址（比如后缀 `@xxx.com` 这类域名及中间可能的内容）因为被隐藏，无法从当前信息中获取到完整的邮箱。  \\n\\n如果你想确认完整邮箱，需要你回忆或补充被 `[REDACTED_EMAIL]` 隐藏的那部分内容（比如域名、子域名等），例如完整邮箱可能是类似 `junbo@xxx.com`（`xxx` 是你实际的域名）的形式，但具体需要你结合自己的注册信息来确定。', additional_kwargs={'refusal': None}, response_metadata={'token_usage': {'completion_tokens': 399, 'prompt_tokens': 74, 'total_tokens': 473, 'completion_tokens_details': {'accepted_prediction_tokens': 0, 'audio_tokens': 0, 'reasoning_tokens': 240, 'rejected_prediction_tokens': 0}, 'prompt_tokens_details': {'audio_tokens': 0, 'cached_tokens': 0}}, 'model_provider': 'openai', 'model_name': 'doubao-seed-1-6-250615', 'system_fingerprint': '', 'id': '02176061308177632c68f27fb844bcdaeb8e6e5beffe87142a049', 'service_tier': None, 'finish_reason': 'stop', 'logprobs': None}, id='lc_run--cebf026b-4bb3-4345-8d13-d8dd42463c41-0', usage_metadata={'input_tokens': 74, 'output_tokens': 399, 'total_tokens': 473, 'input_token_details': {'audio': 0, 'cache_read': 0}, 'output_token_details': {'audio': 0, 'reasoning': 240}})]}\n"
     ]
    }
   ],
   "execution_count": 9
  }
 ],
 "metadata": {
  "kernelspec": {
   "display_name": "Python 3",
   "language": "python",
   "name": "python3"
  },
  "language_info": {
   "codemirror_mode": {
    "name": "ipython",
    "version": 2
   },
   "file_extension": ".py",
   "mimetype": "text/x-python",
   "name": "python",
   "nbconvert_exporter": "python",
   "pygments_lexer": "ipython2",
   "version": "2.7.6"
  }
 },
 "nbformat": 4,
 "nbformat_minor": 5
}
