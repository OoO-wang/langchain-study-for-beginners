{
 "cells": [
  {
   "cell_type": "code",
   "execution_count": 1,
   "id": "initial_id",
   "metadata": {
    "ExecuteTime": {
     "end_time": "2025-09-30T08:12:40.256452Z",
     "start_time": "2025-09-30T08:12:40.032279Z"
    }
   },
   "outputs": [
    {
     "name": "stdout",
     "output_type": "stream",
     "text": [
      "=== 开始对话测试 ===\n",
      "对话1 - 用户: Hi! I am Bob.\n",
      "对话1 - AI回复:\n",
      "==================================\u001B[1m Ai Message \u001B[0m==================================\n",
      "\n",
      "Hello, Bob! Nice to meet you. I'm Doubao, an AI developed by ByteDance.\n",
      "\\n对话2 - 用户: What is my name?\n",
      "对话2 - AI回复:\n",
      "==================================\u001B[1m Ai Message \u001B[0m==================================\n",
      "\n",
      "Your name is Bob, as you mentioned earlier! 😊\n",
      "\\n对话3 - 用户: What is my name?\n",
      "对话3 - AI回复:\n",
      "==================================\u001B[1m Ai Message \u001B[0m==================================\n",
      "\n",
      "I don’t know your name unless you tell me! You can share your name with me if you’d like.\n"
     ]
    }
   ],
   "source": [
    "from dotenv import load_dotenv\n",
    "import os\n",
    "from langchain_openai import ChatOpenAI\n",
    "from langchain_core.messages import HumanMessage\n",
    "from langgraph.checkpoint.memory import InMemorySaver\n",
    "from langgraph.graph import START, MessagesState, StateGraph\n",
    "\n",
    "# 加载环境变量\n",
    "load_dotenv(dotenv_path='../.env')\n",
    "api_key = os.getenv('OPENAI_API_KEY')\n",
    "model_name = os.getenv('MODEL_NAME')\n",
    "model_url = os.getenv('MODEL_URL')\n",
    "\n",
    "# 初始化模型\n",
    "model = ChatOpenAI(base_url=model_url, api_key=api_key, model=model_name)\n",
    "\n",
    "# 定义工作流\n",
    "workflow = StateGraph(state_schema=MessagesState)\n",
    "\n",
    "def call_model(state: MessagesState):\n",
    "    response = model.invoke(state['messages'])\n",
    "    return {'messages': [response]}\n",
    "\n",
    "# 添加节点和边\n",
    "workflow.add_node('model', call_model)\n",
    "workflow.add_edge(START, 'model')\n",
    "\n",
    "# 添加内存 checkpointer\n",
    "memory = InMemorySaver()\n",
    "app = workflow.compile(checkpointer=memory)\n",
    "\n",
    "# 使用一个 thread_id 表示当前会话\n",
    "config = {'configurable': {'thread_id': 'abc123'}}\n",
    "\n",
    "print('=== 开始对话测试 ===')\n",
    "\n",
    "# 对话 1\n",
    "query = 'Hi! I am Bob.'\n",
    "input_messages = [HumanMessage(query)]\n",
    "output = app.invoke({'messages': input_messages}, config)\n",
    "print('对话1 - 用户:', query)\n",
    "print('对话1 - AI回复:')\n",
    "output['messages'][-1].pretty_print()\n",
    "\n",
    "# 对话 2（记忆测试）\n",
    "query = 'What is my name?'\n",
    "input_messages = [HumanMessage(query)]\n",
    "output = app.invoke({'messages': input_messages}, config)\n",
    "print('\\\\n对话2 - 用户:', query)\n",
    "print('对话2 - AI回复:')\n",
    "output['messages'][-1].pretty_print()\n",
    "\n",
    "config2 = {'configurable': {'thread_id': 'def123'}}\n",
    "\n",
    "# 对话 3（另外thread_id记忆测试）\n",
    "query = 'What is my name?'\n",
    "input_messages = [HumanMessage(query)]\n",
    "output = app.invoke({'messages': input_messages}, config2)\n",
    "print('\\\\n对话3 - 用户:', query)\n",
    "print('对话3 - AI回复:')\n",
    "output['messages'][-1].pretty_print()"
   ]
  },
  {
   "cell_type": "code",
   "execution_count": null,
   "id": "4ceaed2e7130f9f4",
   "metadata": {},
   "outputs": [],
   "source": []
  }
 ],
 "metadata": {
  "kernelspec": {
   "display_name": "Python 3 (ipykernel)",
   "language": "python",
   "name": "python3"
  },
  "language_info": {
   "codemirror_mode": {
    "name": "ipython",
    "version": 3
   },
   "file_extension": ".py",
   "mimetype": "text/x-python",
   "name": "python",
   "nbconvert_exporter": "python",
   "pygments_lexer": "ipython3",
   "version": "3.12.11"
  }
 },
 "nbformat": 4,
 "nbformat_minor": 5
}
